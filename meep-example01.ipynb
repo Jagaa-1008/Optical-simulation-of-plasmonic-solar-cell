{
 "cells": [
  {
   "cell_type": "markdown",
   "metadata": {},
   "source": [
    "# Meep Tutorial: Waveguide Cavity\n",
    "\n",
    "This notebook simulates a waveguide cavity with a defect. It calculates the power spectral density (PSD) for a simple waveguide and a waveguide with a cavity."
   ]
  },
  {
   "cell_type": "code",
   "execution_count": 1,
   "metadata": {},
   "outputs": [],
   "source": [
    "import meep as mp\n",
    "import numpy as np\n",
    "from matplotlib import pyplot as plt\n",
    "from IPython.display import Video\n",
    "%matplotlib notebook"
   ]
  },
  {
   "cell_type": "code",
   "execution_count": 2,
   "metadata": {},
   "outputs": [],
   "source": [
    "resolution = 20   # pixels/um\n",
    "\n",
    "eps = 13          # dielectric constant of waveguide\n",
    "w = 1.2           # width of waveguide\n",
    "r = 0.36          # radius of holes\n",
    "d = 1.4           # defect spacing (ordinary spacing = 1)\n",
    "\n",
    "sy = 6            # size of cell in y direction (perpendicular to wvg.)\n",
    "pad = 2           # padding between last hole and PML edge\n",
    "dpml = 1          # PML thickness\n",
    "\n",
    "sx = 2*(pad+dpml)+d-1  # size of cell in x direction\n",
    "cell = mp.Vector3(sx,sy,0)\n",
    "\n",
    "pml_layers = [mp.PML(1.0)]\n",
    "sym = [mp.Mirror(mp.Y)]\n",
    "fcen = 0.25\n",
    "df = 0.2"
   ]
  },
  {
   "cell_type": "code",
   "execution_count": 3,
   "metadata": {},
   "outputs": [],
   "source": [
    "def sim_cavity(N=3,sy=6):\n",
    "    sx = 2*(pad+dpml+N)+d-1  # size of cell in x direction\n",
    "    cell = mp.Vector3(sx,sy,0)\n",
    "    blk = mp.Block(size=mp.Vector3(mp.inf,w,mp.inf), material=mp.Medium(epsilon=eps))\n",
    "    geometry = [blk]\n",
    "\n",
    "    for i in range(N):\n",
    "            geometry.append(mp.Cylinder(r, center=mp.Vector3(d/2+i)))\n",
    "            geometry.append(mp.Cylinder(r, center=mp.Vector3(-(d/2+i))))\n",
    "    \n",
    "    src = [mp.Source(mp.GaussianSource(fcen, fwidth=df),\n",
    "                 component=mp.Ey,\n",
    "                 center=mp.Vector3(-0.5*sx+dpml),\n",
    "                 size=mp.Vector3(0,w))]\n",
    "    \n",
    "    sim = mp.Simulation(cell_size=cell,\n",
    "                    geometry=geometry,\n",
    "                    boundary_layers=pml_layers,\n",
    "                    sources=src,\n",
    "                    symmetries=sym,\n",
    "                    resolution=resolution)\n",
    "    \n",
    "    freg = mp.FluxRegion(center=mp.Vector3(0.5*sx-dpml-0.5),\n",
    "                     size=mp.Vector3(0,2*w))\n",
    "    nfreq = 500\n",
    "    trans = sim.add_flux(fcen, df, nfreq, freg)\n",
    "    \n",
    "    sim.run(until_after_sources=mp.stop_when_fields_decayed(50, mp.Ey, mp.Vector3(0.5*sx-dpml-0.5), 1e-3))\n",
    "    \n",
    "    freqs = mp.get_flux_freqs(trans)\n",
    "    psd = mp.get_fluxes(trans)\n",
    "\n",
    "    return freqs, psd"
   ]
  },
  {
   "cell_type": "code",
   "execution_count": 4,
   "metadata": {},
   "outputs": [
    {
     "ename": "NameError",
     "evalue": "name 'fcen' is not defined",
     "output_type": "error",
     "traceback": [
      "\u001b[0;31m---------------------------------------------------------------------------\u001b[0m",
      "\u001b[0;31mNameError\u001b[0m                                 Traceback (most recent call last)",
      "\u001b[0;32m<ipython-input-4-44c918c55c88>\u001b[0m in \u001b[0;36m<module>\u001b[0;34m\u001b[0m\n\u001b[0;32m----> 1\u001b[0;31m \u001b[0mfreqs_wg\u001b[0m\u001b[0;34m,\u001b[0m \u001b[0mpsd_wg\u001b[0m \u001b[0;34m=\u001b[0m \u001b[0msim_cavity\u001b[0m\u001b[0;34m(\u001b[0m\u001b[0mN\u001b[0m\u001b[0;34m=\u001b[0m\u001b[0;36m0\u001b[0m\u001b[0;34m)\u001b[0m \u001b[0;31m# simple waveguide\u001b[0m\u001b[0;34m\u001b[0m\u001b[0;34m\u001b[0m\u001b[0m\n\u001b[0m\u001b[1;32m      2\u001b[0m \u001b[0mfreqs_cav\u001b[0m\u001b[0;34m,\u001b[0m \u001b[0mpsd_cav\u001b[0m \u001b[0;34m=\u001b[0m \u001b[0msim_cavity\u001b[0m\u001b[0;34m(\u001b[0m\u001b[0;34m)\u001b[0m \u001b[0;31m# cavity\u001b[0m\u001b[0;34m\u001b[0m\u001b[0;34m\u001b[0m\u001b[0m\n",
      "\u001b[0;32m<ipython-input-3-a0c10f47eb53>\u001b[0m in \u001b[0;36msim_cavity\u001b[0;34m(N, sy)\u001b[0m\n\u001b[1;32m      9\u001b[0m             \u001b[0mgeometry\u001b[0m\u001b[0;34m.\u001b[0m\u001b[0mappend\u001b[0m\u001b[0;34m(\u001b[0m\u001b[0mmp\u001b[0m\u001b[0;34m.\u001b[0m\u001b[0mCylinder\u001b[0m\u001b[0;34m(\u001b[0m\u001b[0mr\u001b[0m\u001b[0;34m,\u001b[0m \u001b[0mcenter\u001b[0m\u001b[0;34m=\u001b[0m\u001b[0mmp\u001b[0m\u001b[0;34m.\u001b[0m\u001b[0mVector3\u001b[0m\u001b[0;34m(\u001b[0m\u001b[0;34m-\u001b[0m\u001b[0;34m(\u001b[0m\u001b[0md\u001b[0m\u001b[0;34m/\u001b[0m\u001b[0;36m2\u001b[0m\u001b[0;34m+\u001b[0m\u001b[0mi\u001b[0m\u001b[0;34m)\u001b[0m\u001b[0;34m)\u001b[0m\u001b[0;34m)\u001b[0m\u001b[0;34m)\u001b[0m\u001b[0;34m\u001b[0m\u001b[0;34m\u001b[0m\u001b[0m\n\u001b[1;32m     10\u001b[0m \u001b[0;34m\u001b[0m\u001b[0m\n\u001b[0;32m---> 11\u001b[0;31m     src = [mp.Source(mp.GaussianSource(fcen, fwidth=df),\n\u001b[0m\u001b[1;32m     12\u001b[0m                  \u001b[0mcomponent\u001b[0m\u001b[0;34m=\u001b[0m\u001b[0mmp\u001b[0m\u001b[0;34m.\u001b[0m\u001b[0mEy\u001b[0m\u001b[0;34m,\u001b[0m\u001b[0;34m\u001b[0m\u001b[0;34m\u001b[0m\u001b[0m\n\u001b[1;32m     13\u001b[0m                  \u001b[0mcenter\u001b[0m\u001b[0;34m=\u001b[0m\u001b[0mmp\u001b[0m\u001b[0;34m.\u001b[0m\u001b[0mVector3\u001b[0m\u001b[0;34m(\u001b[0m\u001b[0;34m-\u001b[0m\u001b[0;36m0.5\u001b[0m\u001b[0;34m*\u001b[0m\u001b[0msx\u001b[0m\u001b[0;34m+\u001b[0m\u001b[0mdpml\u001b[0m\u001b[0;34m)\u001b[0m\u001b[0;34m,\u001b[0m\u001b[0;34m\u001b[0m\u001b[0;34m\u001b[0m\u001b[0m\n",
      "\u001b[0;31mNameError\u001b[0m: name 'fcen' is not defined"
     ]
    }
   ],
   "source": [
    "freqs_wg, psd_wg = sim_cavity(N=0) # simple waveguide\n",
    "freqs_cav, psd_cav = sim_cavity() # cavity"
   ]
  },
  {
   "cell_type": "code",
   "execution_count": null,
   "metadata": {},
   "outputs": [],
   "source": []
  }
 ],
 "metadata": {
  "kernelspec": {
   "display_name": "Python 3",
   "language": "python",
   "name": "python3"
  },
  "language_info": {
   "codemirror_mode": {
    "name": "ipython",
    "version": 3
   },
   "file_extension": ".py",
   "mimetype": "text/x-python",
   "name": "python",
   "nbconvert_exporter": "python",
   "pygments_lexer": "ipython3",
   "version": "3.6.11"
  }
 },
 "nbformat": 4,
 "nbformat_minor": 4
}
