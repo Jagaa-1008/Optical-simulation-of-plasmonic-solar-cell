{
 "cells": [
  {
   "cell_type": "markdown",
   "metadata": {},
   "source": [
    "# Simulating a Resonant Cavity with Meep"
   ]
  },
  {
   "cell_type": "markdown",
   "metadata": {},
   "source": [
    "## Introduction to Meep and FDTD\n",
    "\n",
    "[Meep](https://meep.readthedocs.io/en/latest/) is a free and open-source software package for electromagnetic simulations using the finite-difference time-domain (FDTD) method. FDTD is a popular method for solving Maxwell's equations, which describe how electromagnetic waves propagate and interact with materials.\n",
    "\n",
    "In this notebook, we will use Meep to simulate a resonant cavity, which is a structure that can trap electromagnetic waves at specific frequencies, called resonant frequencies. We will start with a simple 1D cavity and then move to a more complex 2D cavity."
   ]
  },
  {
   "cell_type": "code",
   "execution_count": 1,
   "metadata": {},
   "outputs": [
    {
     "ename": "ModuleNotFoundError",
     "evalue": "No module named 'meep'",
     "output_type": "error",
     "traceback": [
      "\u001b[31m---------------------------------------------------------------------------\u001b[39m",
      "\u001b[31mModuleNotFoundError\u001b[39m                       Traceback (most recent call last)",
      "\u001b[36mCell\u001b[39m\u001b[36m \u001b[39m\u001b[32mIn[1]\u001b[39m\u001b[32m, line 1\u001b[39m\n\u001b[32m----> \u001b[39m\u001b[32m1\u001b[39m \u001b[38;5;28;01mimport\u001b[39;00m\u001b[38;5;250m \u001b[39m\u001b[34;01mmeep\u001b[39;00m\u001b[38;5;250m \u001b[39m\u001b[38;5;28;01mas\u001b[39;00m\u001b[38;5;250m \u001b[39m\u001b[34;01mmp\u001b[39;00m\n\u001b[32m      2\u001b[39m \u001b[38;5;28;01mimport\u001b[39;00m\u001b[38;5;250m \u001b[39m\u001b[34;01mnumpy\u001b[39;00m\u001b[38;5;250m \u001b[39m\u001b[38;5;28;01mas\u001b[39;00m\u001b[38;5;250m \u001b[39m\u001b[34;01mnp\u001b[39;00m\n\u001b[32m      3\u001b[39m \u001b[38;5;28;01mimport\u001b[39;00m\u001b[38;5;250m \u001b[39m\u001b[34;01mmatplotlib\u001b[39;00m\u001b[34;01m.\u001b[39;00m\u001b[34;01mpyplot\u001b[39;00m\u001b[38;5;250m \u001b[39m\u001b[38;5;28;01mas\u001b[39;00m\u001b[38;5;250m \u001b[39m\u001b[34;01mplt\u001b[39;00m\n",
      "\u001b[31mModuleNotFoundError\u001b[39m: No module named 'meep'"
     ]
    }
   ],
   "source": [
    "import meep as mp\n",
    "import numpy as np\n",
    "import matplotlib.pyplot as plt"
   ]
  },
  {
   "cell_type": "markdown",
   "metadata": {},
   "source": [
    "## Simulating a 1D Resonant Cavity\n",
    "\n",
    "Let's start with a simple 1D resonant cavity. The cavity is formed by two mirrors (perfect electric conductors) separated by a distance. We will place a source inside the cavity to excite the modes and then observe how the fields evolve in time."
   ]
  },
  {
   "cell_type": "code",
   "execution_count": null,
   "metadata": {},
   "outputs": [
    {
     "ename": "AttributeError",
     "evalue": "module 'meep' has no attribute 'Vector3'",
     "output_type": "error",
     "traceback": [
      "\u001b[31m---------------------------------------------------------------------------\u001b[39m",
      "\u001b[31mAttributeError\u001b[39m                            Traceback (most recent call last)",
      "\u001b[36mCell\u001b[39m\u001b[36m \u001b[39m\u001b[32mIn[2]\u001b[39m\u001b[32m, line 1\u001b[39m\n\u001b[32m----> \u001b[39m\u001b[32m1\u001b[39m cell_size = \u001b[43mmp\u001b[49m\u001b[43m.\u001b[49m\u001b[43mVector3\u001b[49m(z=\u001b[32m14\u001b[39m)\n\u001b[32m      2\u001b[39m geometry = [mp.Block(center=mp.Vector3(z=-\u001b[32m7\u001b[39m), size=mp.Vector3(mp.inf, mp.inf, \u001b[32m0\u001b[39m), material=mp.metal),\n\u001b[32m      3\u001b[39m             mp.Block(center=mp.Vector3(z=\u001b[32m7\u001b[39m), size=mp.Vector3(mp.inf, mp.inf, \u001b[32m0\u001b[39m), material=mp.metal)]\n\u001b[32m      5\u001b[39m sources = [mp.Source(src=mp.GaussianSource(frequency=\u001b[32m0.15\u001b[39m, fwidth=\u001b[32m0.1\u001b[39m), \n\u001b[32m      6\u001b[39m                     component=mp.Ey, \n\u001b[32m      7\u001b[39m                     center=mp.Vector3(z=\u001b[32m0\u001b[39m))]\n",
      "\u001b[31mAttributeError\u001b[39m: module 'meep' has no attribute 'Vector3'"
     ]
    }
   ],
   "source": [
    "cell_size = mp.Vector3(z=14)\n",
    "geometry = [mp.Block(center=mp.Vector3(z=-7), size=mp.Vector3(mp.inf, mp.inf, 0), material=mp.metal),\n",
    "            mp.Block(center=mp.Vector3(z=7), size=mp.Vector3(mp.inf, mp.inf, 0), material=mp.metal)]\n",
    "\n",
    "sources = [mp.Source(src=mp.GaussianSource(frequency=0.15, fwidth=0.1), \n",
    "                    component=mp.Ey, \n",
    "                    center=mp.Vector3(z=0))]\n",
    "\n",
    "pml_layers = [mp.PML(1.0)]\n",
    "\n",
    "resolution = 10"
   ]
  },
  {
   "cell_type": "markdown",
   "metadata": {},
   "source": [
    "Now, we create the `Simulation` object, which is the main object in Meep that brings together the geometry, sources, resolution, and other simulation parameters."
   ]
  },
  {
   "cell_type": "code",
   "execution_count": 3,
   "metadata": {},
   "outputs": [
    {
     "ename": "AttributeError",
     "evalue": "module 'meep' has no attribute 'Simulation'",
     "output_type": "error",
     "traceback": [
      "\u001b[31m---------------------------------------------------------------------------\u001b[39m",
      "\u001b[31mAttributeError\u001b[39m                            Traceback (most recent call last)",
      "\u001b[36mCell\u001b[39m\u001b[36m \u001b[39m\u001b[32mIn[3]\u001b[39m\u001b[32m, line 1\u001b[39m\n\u001b[32m----> \u001b[39m\u001b[32m1\u001b[39m sim = \u001b[43mmp\u001b[49m\u001b[43m.\u001b[49m\u001b[43mSimulation\u001b[49m(cell_size=cell_size,\n\u001b[32m      2\u001b[39m                     boundary_layers=pml_layers,\n\u001b[32m      3\u001b[39m                     geometry=geometry,\n\u001b[32m      4\u001b[39m                     sources=sources,\n\u001b[32m      5\u001b[39m                     resolution=resolution)\n",
      "\u001b[31mAttributeError\u001b[39m: module 'meep' has no attribute 'Simulation'"
     ]
    }
   ],
   "source": [
    "sim = mp.Simulation(cell_size=cell_size,\n",
    "                    boundary_layers=pml_layers,\n",
    "                    geometry=geometry,\n",
    "                    sources=sources,\n",
    "                    resolution=resolution)"
   ]
  },
  {
   "cell_type": "markdown",
   "metadata": {},
   "source": [
    "Finally, we run the simulation. We will run it for 200 time steps and visualize the electric field (Ey component) at each time step. The `mp.at_every` function allows us to specify a function to be called at certain intervals during the simulation."
   ]
  },
  {
   "cell_type": "code",
   "execution_count": 4,
   "metadata": {},
   "outputs": [
    {
     "ename": "NameError",
     "evalue": "name 'sim' is not defined",
     "output_type": "error",
     "traceback": [
      "\u001b[31m---------------------------------------------------------------------------\u001b[39m",
      "\u001b[31mNameError\u001b[39m                                 Traceback (most recent call last)",
      "\u001b[36mCell\u001b[39m\u001b[36m \u001b[39m\u001b[32mIn[4]\u001b[39m\u001b[32m, line 2\u001b[39m\n\u001b[32m      1\u001b[39m plt.figure(dpi=\u001b[32m100\u001b[39m)\n\u001b[32m----> \u001b[39m\u001b[32m2\u001b[39m \u001b[43msim\u001b[49m.run(mp.at_every(\u001b[32m2\u001b[39m, mp.plot2D(fields=mp.Ey, output_plane=mp.Volume(center=mp.Vector3(), size=mp.Vector3(z=\u001b[32m14\u001b[39m)))), until=\u001b[32m200\u001b[39m)\n\u001b[32m      3\u001b[39m plt.show()\n",
      "\u001b[31mNameError\u001b[39m: name 'sim' is not defined"
     ]
    },
    {
     "data": {
      "text/plain": [
       "<Figure size 640x480 with 0 Axes>"
      ]
     },
     "metadata": {},
     "output_type": "display_data"
    }
   ],
   "source": [
    "plt.figure(dpi=100)\n",
    "sim.run(mp.at_every(2, mp.plot2D(fields=mp.Ey, output_plane=mp.Volume(center=mp.Vector3(), size=mp.Vector3(z=14)))), until=200)\n",
    "plt.show()"
   ]
  },
  {
   "cell_type": "markdown",
   "metadata": {},
   "source": [
    "## Finding the Resonant Modes\n",
    "\n",
    "To find the resonant modes of the cavity, we can use a tool called [Harminv](https://meep.readthedocs.io/en/latest/Python_User_Interface/#harminv). Harminv is a tool that can extract the frequencies and decay rates of the modes from the time-domain simulation data.\n",
    "\n",
    "We will run the simulation again, but this time we will use `Harminv` to analyze the fields at a specific point in the cavity. We will then print the results."
   ]
  },
  {
   "cell_type": "code",
   "execution_count": 5,
   "metadata": {},
   "outputs": [
    {
     "ename": "NameError",
     "evalue": "name 'sim' is not defined",
     "output_type": "error",
     "traceback": [
      "\u001b[31m---------------------------------------------------------------------------\u001b[39m",
      "\u001b[31mNameError\u001b[39m                                 Traceback (most recent call last)",
      "\u001b[36mCell\u001b[39m\u001b[36m \u001b[39m\u001b[32mIn[5]\u001b[39m\u001b[32m, line 1\u001b[39m\n\u001b[32m----> \u001b[39m\u001b[32m1\u001b[39m \u001b[43msim\u001b[49m.reset_meep()\n\u001b[32m      3\u001b[39m h = mp.Harminv(mp.Ey, mp.Vector3(z=\u001b[32m0\u001b[39m), \u001b[32m0.1\u001b[39m, \u001b[32m0.2\u001b[39m)\n\u001b[32m      5\u001b[39m sim.run(after_sources=h, until_after_sources=\u001b[32m200\u001b[39m)\n",
      "\u001b[31mNameError\u001b[39m: name 'sim' is not defined"
     ]
    }
   ],
   "source": [
    "sim.reset_meep()\n",
    "\n",
    "h = mp.Harminv(mp.Ey, mp.Vector3(z=0), 0.1, 0.2)\n",
    "\n",
    "sim.run(after_sources=h, until_after_sources=200)\n",
    "\n",
    "print(h.modes)"
   ]
  },
  {
   "cell_type": "markdown",
   "metadata": {},
   "source": [
    "## Extending to a 2D Resonant Cavity\n",
    "\n",
    "Now, let's extend our simulation to 2D. We will create a 2D resonant cavity by using a `Cylinder` object as our cavity. The setup is similar to the 1D case, but we now have a 2D geometry and we will visualize the fields in 2D."
   ]
  },
  {
   "cell_type": "code",
   "execution_count": null,
   "metadata": {},
   "outputs": [],
   "source": [
    "cell_size = mp.Vector3(14, 14)\n",
    "geometry = [mp.Cylinder(radius=5, material=mp.metal)]\n",
    "\n",
    "sources = [mp.Source(src=mp.GaussianSource(frequency=0.15, fwidth=0.1), \n",
    "                    component=mp.Ez, \n",
    "                    center=mp.Vector3(0,0))]\n",
    "\n",
    "pml_layers = [mp.PML(1.0)]\n",
    "\n",
    "resolution = 10"
   ]
  },
  {
   "cell_type": "code",
   "execution_count": null,
   "metadata": {},
   "outputs": [],
   "source": [
    "sim = mp.Simulation(cell_size=cell_size,\n",
    "                    boundary_layers=pml_layers,\n",
    "                    geometry=geometry,\n",
    "                    sources=sources,\n",
    "                    resolution=resolution)"
   ]
  },
  {
   "cell_type": "code",
   "execution_count": null,
   "metadata": {},
   "outputs": [],
   "source": [
    "plt.figure(dpi=100)\n",
    "sim.run(mp.at_every(0.6, mp.plot2D(fields=mp.Ez)), until=200)\n",
    "plt.show()"
   ]
  },
  {
   "cell_type": "markdown",
   "metadata": {},
   "source": [
    "## Conclusion and Further Exploration\n",
    "\n",
    "In this notebook, we have learned how to simulate a resonant cavity in 1D and 2D using Meep. We have also seen how to use Harminv to find the resonant modes of the cavity.\n",
    "\n",
    "For further exploration, you can try:\n",
    "*   Changing the geometry of the cavity (e.g., using different shapes or materials).\n",
    "*   Using different sources to excite the modes.\n",
    "*   Exploring other analysis tools in Meep, such as flux monitors to calculate the transmission and reflection spectra.\n",
    "*   Extending the simulation to 3D."
   ]
  }
 ],
 "metadata": {
  "kernelspec": {
   "display_name": "base",
   "language": "python",
   "name": "python3"
  },
  "language_info": {
   "codemirror_mode": {
    "name": "ipython",
    "version": 3
   },
   "file_extension": ".py",
   "mimetype": "text/x-python",
   "name": "python",
   "nbconvert_exporter": "python",
   "pygments_lexer": "ipython3",
   "version": "3.13.5"
  }
 },
 "nbformat": 4,
 "nbformat_minor": 4
}
